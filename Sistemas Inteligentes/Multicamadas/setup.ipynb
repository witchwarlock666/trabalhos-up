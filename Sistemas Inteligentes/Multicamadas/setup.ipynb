{
 "cells": [
  {
   "cell_type": "code",
   "execution_count": null,
   "metadata": {},
   "outputs": [],
   "source": [
    "import pandas as pd"
   ]
  },
  {
   "cell_type": "code",
   "execution_count": null,
   "metadata": {},
   "outputs": [],
   "source": [
    "df=pd.read_csv(\"Car_Prices_Poland_Kaggle.csv\")"
   ]
  },
  {
   "cell_type": "code",
   "execution_count": null,
   "metadata": {},
   "outputs": [],
   "source": [
    "df.info()"
   ]
  },
  {
   "cell_type": "code",
   "execution_count": null,
   "metadata": {},
   "outputs": [],
   "source": [
    "df.drop(columns=[\"generation_name\",\"Unnamed: 0\",\"city\",\"province\",\"vol_engine\",\"model\"],inplace=True)\n",
    "\n",
    "df.info()"
   ]
  },
  {
   "cell_type": "code",
   "execution_count": null,
   "metadata": {},
   "outputs": [],
   "source": [
    "df[\"mark\"].unique()"
   ]
  },
  {
   "cell_type": "code",
   "execution_count": null,
   "metadata": {},
   "outputs": [],
   "source": [
    "i = 0\n",
    "for car in df[\"mark\"]:\n",
    "    if car == \"opel\":\n",
    "        df[\"mark\"][i] = 0\n",
    "    elif car == \"audi\":\n",
    "        df[\"mark\"][i] = 1\n",
    "    elif car == \"bmw\":\n",
    "        df[\"mark\"][i] = 2\n",
    "    elif car == \"volkswagen\":\n",
    "        df[\"mark\"][i] = 3\n",
    "    elif car == \"ford\":\n",
    "        df[\"mark\"][i] = 4\n",
    "    elif car == \"mercedes-benz\":\n",
    "        df[\"mark\"][i] = 5\n",
    "    elif car == \"renault\":\n",
    "        df[\"mark\"][i] = 6\n",
    "    elif car == \"toyota\":\n",
    "        df[\"mark\"][i] = 7\n",
    "    elif car == \"skoda\":\n",
    "        df[\"mark\"][i] = 8\n",
    "    elif car == \"alfa-romeo\":\n",
    "        df[\"mark\"][i] = 9\n",
    "    elif car == \"chevrolet\":\n",
    "        df[\"mark\"][i] = 10\n",
    "    elif car == \"citroen\":\n",
    "        df[\"mark\"][i] = 11\n",
    "    elif car == \"fiat\":\n",
    "        df[\"mark\"][i] = 12\n",
    "    elif car == \"honda\":\n",
    "        df[\"mark\"][i] = 13\n",
    "    elif car == \"hyundai\":\n",
    "        df[\"mark\"][i] = 14\n",
    "    elif car == \"kia\":\n",
    "        df[\"mark\"][i] = 15\n",
    "    elif car == \"mazda\":\n",
    "        df[\"mark\"][i] = 16\n",
    "    elif car == \"mini\":\n",
    "        df[\"mark\"][i] = 17\n",
    "    elif car == \"mitsubishi\":\n",
    "        df[\"mark\"][i] = 18\n",
    "    elif car == \"nissan\":\n",
    "        df[\"mark\"][i] = 19\n",
    "    elif car == \"peugeot\":\n",
    "        df[\"mark\"][i] = 20\n",
    "    elif car == \"seat\":\n",
    "        df[\"mark\"][i] = 21\n",
    "    elif car == \"volvo\":\n",
    "        df[\"mark\"][i] = 22\n",
    "    i += 1"
   ]
  },
  {
   "cell_type": "code",
   "execution_count": null,
   "metadata": {},
   "outputs": [],
   "source": [
    "print(df[\"mark\"])"
   ]
  },
  {
   "cell_type": "code",
   "execution_count": null,
   "metadata": {},
   "outputs": [],
   "source": [
    "i = 0\n",
    "for t in df[\"fuel\"]:\n",
    "    if t == \"LPG\":\n",
    "        df[\"fuel\"][i] = 0\n",
    "    elif t == \"CNG\":\n",
    "        df[\"fuel\"][i] = 1\n",
    "    elif t == \"Gasoline\":\n",
    "        df[\"fuel\"][i] = 2\n",
    "    elif t == \"Diesel\":\n",
    "        df[\"fuel\"][i] = 3\n",
    "    elif t == \"Hybrid\":\n",
    "        df[\"fuel\"][i] = 4\n",
    "    elif t == \"Electric\":\n",
    "        df[\"fuel\"][i] = 5\n",
    "    i += 1"
   ]
  },
  {
   "cell_type": "code",
   "execution_count": null,
   "metadata": {},
   "outputs": [],
   "source": [
    "df[\"result\"] = -1.0"
   ]
  },
  {
   "cell_type": "code",
   "execution_count": null,
   "metadata": {},
   "outputs": [],
   "source": [
    "i = 0\n",
    "for item in df[\"price\"]:\n",
    "    if item <= 10000:\n",
    "        df[\"result\"][i] = 0\n",
    "    elif item > 10000 and item <= 50000:\n",
    "        df[\"result\"][i] = 0.25\n",
    "    elif item > 50000 and item <= 100000:\n",
    "        df[\"result\"][i] = 0.5\n",
    "    elif item > 100000 and item <= 150000:\n",
    "        df[\"result\"][i] = 0.75\n",
    "    elif item > 150000:\n",
    "        df[\"result\"][i] = 1\n",
    "    i += 1"
   ]
  },
  {
   "cell_type": "code",
   "execution_count": null,
   "metadata": {},
   "outputs": [],
   "source": [
    "df.head()"
   ]
  },
  {
   "cell_type": "code",
   "execution_count": 8,
   "metadata": {},
   "outputs": [],
   "source": [
    "training_data = df.sample(frac=0.8, random_state=25)\n",
    "testing_data = df.drop(training_data.index)"
   ]
  },
  {
   "cell_type": "code",
   "execution_count": 9,
   "metadata": {},
   "outputs": [],
   "source": [
    "df.drop(columns=[\"result\"],inplace=True)"
   ]
  },
  {
   "cell_type": "code",
   "execution_count": 10,
   "metadata": {},
   "outputs": [],
   "source": [
    "df.to_csv(\"cars.csv\", index=False)"
   ]
  },
  {
   "cell_type": "code",
   "execution_count": 11,
   "metadata": {},
   "outputs": [],
   "source": [
    "testing_data.drop(columns=[\"result\"],inplace=True)"
   ]
  },
  {
   "cell_type": "code",
   "execution_count": 12,
   "metadata": {},
   "outputs": [],
   "source": [
    "training_data.to_csv(\"treinamento.csv\", index=False)\n",
    "testing_data.to_csv(\"teste.csv\", index=False)"
   ]
  },
  {
   "cell_type": "code",
   "execution_count": 13,
   "metadata": {},
   "outputs": [
    {
     "name": "stdout",
     "output_type": "stream",
     "text": [
      "<class 'pandas.core.frame.DataFrame'>\n",
      "Int64Index: 94342 entries, 74551 to 5854\n",
      "Data columns (total 6 columns):\n",
      " #   Column   Non-Null Count  Dtype  \n",
      "---  ------   --------------  -----  \n",
      " 0   mark     94342 non-null  object \n",
      " 1   year     94342 non-null  int64  \n",
      " 2   mileage  94342 non-null  int64  \n",
      " 3   fuel     94342 non-null  object \n",
      " 4   price    94342 non-null  int64  \n",
      " 5   result   94342 non-null  float64\n",
      "dtypes: float64(1), int64(3), object(2)\n",
      "memory usage: 5.0+ MB\n"
     ]
    }
   ],
   "source": [
    "training_data.info()"
   ]
  }
 ],
 "metadata": {
  "kernelspec": {
   "display_name": "Python 3.10.6 64-bit",
   "language": "python",
   "name": "python3"
  },
  "language_info": {
   "codemirror_mode": {
    "name": "ipython",
    "version": 3
   },
   "file_extension": ".py",
   "mimetype": "text/x-python",
   "name": "python",
   "nbconvert_exporter": "python",
   "pygments_lexer": "ipython3",
   "version": "3.10.6"
  },
  "orig_nbformat": 4,
  "vscode": {
   "interpreter": {
    "hash": "c436ef022aac3143500a44fcf1ae28e8245ee9024df6f034706195555702b7bd"
   }
  }
 },
 "nbformat": 4,
 "nbformat_minor": 2
}
